{
 "cells": [
  {
   "cell_type": "markdown",
   "id": "e4d8b309",
   "metadata": {},
   "source": [
    "# 🧠 Model Training \n",
    "\n",
    "## 📦 Modules included "
   ]
  },
  {
   "cell_type": "code",
   "execution_count": 1,
   "id": "d133357b",
   "metadata": {},
   "outputs": [],
   "source": [
    "# Data handling and visualization\n",
    "import pandas as pd\n",
    "import numpy as np\n",
    "import matplotlib.pyplot as plt\n",
    "import seaborn as sns; sns.set()"
   ]
  },
  {
   "cell_type": "markdown",
   "id": "db461f4b",
   "metadata": {},
   "source": [
    "## 📈 Statistical Tools and Feature Scaling"
   ]
  },
  {
   "cell_type": "code",
   "execution_count": 2,
   "id": "e1aa18ae",
   "metadata": {},
   "outputs": [],
   "source": [
    "from scipy import stats\n",
    "from sklearn.preprocessing import StandardScaler"
   ]
  },
  {
   "cell_type": "markdown",
   "id": "1c63e9e6",
   "metadata": {},
   "source": [
    "## 🔀 Train-Test Split and Cross-Validation"
   ]
  },
  {
   "cell_type": "code",
   "execution_count": 3,
   "id": "161fd4a3",
   "metadata": {},
   "outputs": [],
   "source": [
    "from sklearn.model_selection import train_test_split, cross_val_score"
   ]
  },
  {
   "cell_type": "markdown",
   "id": "3b33252d",
   "metadata": {},
   "source": [
    "## 📊 Model Evaluation Metrics"
   ]
  },
  {
   "cell_type": "code",
   "execution_count": 4,
   "id": "424ab30b",
   "metadata": {},
   "outputs": [],
   "source": [
    "from sklearn.metrics import (\n",
    "    accuracy_score, confusion_matrix, classification_report,\n",
    "    roc_curve, auc\n",
    ")\n",
    "from sklearn import metrics\n"
   ]
  },
  {
   "cell_type": "markdown",
   "id": "0b96497f",
   "metadata": {},
   "source": [
    "## 🤖 Machine Learning Models"
   ]
  },
  {
   "cell_type": "code",
   "execution_count": 5,
   "id": "2149ac21",
   "metadata": {},
   "outputs": [],
   "source": [
    "from sklearn.linear_model import LogisticRegression\n",
    "from sklearn.tree import DecisionTreeClassifier\n",
    "from sklearn.neighbors import KNeighborsClassifier\n",
    "from sklearn.ensemble import ExtraTreesClassifier\n",
    "from sklearn.svm import SVC\n",
    "from sklearn.ensemble import RandomForestClassifier"
   ]
  },
  {
   "cell_type": "markdown",
   "id": "7387ed41",
   "metadata": {},
   "source": [
    "## 📂 Loading The Dataset "
   ]
  },
  {
   "cell_type": "code",
   "execution_count": 6,
   "id": "7b3548b7",
   "metadata": {},
   "outputs": [
    {
     "data": {
      "application/vnd.microsoft.datawrangler.viewer.v0+json": {
       "columns": [
        {
         "name": "index",
         "rawType": "int64",
         "type": "integer"
        },
        {
         "name": "id",
         "rawType": "int64",
         "type": "integer"
        },
        {
         "name": "age",
         "rawType": "float64",
         "type": "float"
        },
        {
         "name": "gender",
         "rawType": "int64",
         "type": "integer"
        },
        {
         "name": "height",
         "rawType": "float64",
         "type": "float"
        },
        {
         "name": "weight",
         "rawType": "float64",
         "type": "float"
        },
        {
         "name": "ap_hi",
         "rawType": "float64",
         "type": "float"
        },
        {
         "name": "ap_lo",
         "rawType": "float64",
         "type": "float"
        },
        {
         "name": "cholesterol",
         "rawType": "int64",
         "type": "integer"
        },
        {
         "name": "gluc",
         "rawType": "int64",
         "type": "integer"
        },
        {
         "name": "smoke",
         "rawType": "int64",
         "type": "integer"
        },
        {
         "name": "alco",
         "rawType": "int64",
         "type": "integer"
        },
        {
         "name": "active",
         "rawType": "int64",
         "type": "integer"
        },
        {
         "name": "cardio",
         "rawType": "int64",
         "type": "integer"
        }
       ],
       "conversionMethod": "pd.DataFrame",
       "ref": "c6ad6661-386e-4d99-b681-4705e382b88e",
       "rows": [
        [
         "0",
         "0",
         "-0.4183149782811155",
         "2",
         "0.443880889824011",
         "-0.8475989930787861",
         "-1.01651756210262",
         "-0.1435366157331082",
         "1",
         "1",
         "0",
         "0",
         "1",
         "0"
        ],
        [
         "1",
         "1",
         "0.320429070370144",
         "1",
         "-1.022763693221579",
         "0.7598079390197954",
         "0.8156675677855236",
         "0.9409171730659722",
         "3",
         "1",
         "0",
         "0",
         "1",
         "1"
        ],
        [
         "2",
         "2",
         "-0.2705661685508636",
         "1",
         "0.0772197440626135",
         "-0.7078244772441268",
         "0.2049391911561424",
         "-1.2279904045321888",
         "3",
         "1",
         "0",
         "0",
         "0",
         "1"
        ],
        [
         "3",
         "3",
         "-0.7138125977416193",
         "2",
         "0.5661012717444769",
         "0.5501461652678065",
         "1.4263959444149048",
         "2.0253709618650526",
         "1",
         "1",
         "0",
         "0",
         "1",
         "1"
        ],
        [
         "4",
         "4",
         "-0.8615614074718713",
         "1",
         "-1.022763693221579",
         "-1.2669225405827638",
         "-1.627245938732001",
         "-2.3124441933312694",
         "1",
         "1",
         "0",
         "0",
         "0",
         "0"
        ]
       ],
       "shape": {
        "columns": 13,
        "rows": 5
       }
      },
      "text/html": [
       "<div>\n",
       "<style scoped>\n",
       "    .dataframe tbody tr th:only-of-type {\n",
       "        vertical-align: middle;\n",
       "    }\n",
       "\n",
       "    .dataframe tbody tr th {\n",
       "        vertical-align: top;\n",
       "    }\n",
       "\n",
       "    .dataframe thead th {\n",
       "        text-align: right;\n",
       "    }\n",
       "</style>\n",
       "<table border=\"1\" class=\"dataframe\">\n",
       "  <thead>\n",
       "    <tr style=\"text-align: right;\">\n",
       "      <th></th>\n",
       "      <th>id</th>\n",
       "      <th>age</th>\n",
       "      <th>gender</th>\n",
       "      <th>height</th>\n",
       "      <th>weight</th>\n",
       "      <th>ap_hi</th>\n",
       "      <th>ap_lo</th>\n",
       "      <th>cholesterol</th>\n",
       "      <th>gluc</th>\n",
       "      <th>smoke</th>\n",
       "      <th>alco</th>\n",
       "      <th>active</th>\n",
       "      <th>cardio</th>\n",
       "    </tr>\n",
       "  </thead>\n",
       "  <tbody>\n",
       "    <tr>\n",
       "      <th>0</th>\n",
       "      <td>0</td>\n",
       "      <td>-0.418315</td>\n",
       "      <td>2</td>\n",
       "      <td>0.443881</td>\n",
       "      <td>-0.847599</td>\n",
       "      <td>-1.016518</td>\n",
       "      <td>-0.143537</td>\n",
       "      <td>1</td>\n",
       "      <td>1</td>\n",
       "      <td>0</td>\n",
       "      <td>0</td>\n",
       "      <td>1</td>\n",
       "      <td>0</td>\n",
       "    </tr>\n",
       "    <tr>\n",
       "      <th>1</th>\n",
       "      <td>1</td>\n",
       "      <td>0.320429</td>\n",
       "      <td>1</td>\n",
       "      <td>-1.022764</td>\n",
       "      <td>0.759808</td>\n",
       "      <td>0.815668</td>\n",
       "      <td>0.940917</td>\n",
       "      <td>3</td>\n",
       "      <td>1</td>\n",
       "      <td>0</td>\n",
       "      <td>0</td>\n",
       "      <td>1</td>\n",
       "      <td>1</td>\n",
       "    </tr>\n",
       "    <tr>\n",
       "      <th>2</th>\n",
       "      <td>2</td>\n",
       "      <td>-0.270566</td>\n",
       "      <td>1</td>\n",
       "      <td>0.077220</td>\n",
       "      <td>-0.707824</td>\n",
       "      <td>0.204939</td>\n",
       "      <td>-1.227990</td>\n",
       "      <td>3</td>\n",
       "      <td>1</td>\n",
       "      <td>0</td>\n",
       "      <td>0</td>\n",
       "      <td>0</td>\n",
       "      <td>1</td>\n",
       "    </tr>\n",
       "    <tr>\n",
       "      <th>3</th>\n",
       "      <td>3</td>\n",
       "      <td>-0.713813</td>\n",
       "      <td>2</td>\n",
       "      <td>0.566101</td>\n",
       "      <td>0.550146</td>\n",
       "      <td>1.426396</td>\n",
       "      <td>2.025371</td>\n",
       "      <td>1</td>\n",
       "      <td>1</td>\n",
       "      <td>0</td>\n",
       "      <td>0</td>\n",
       "      <td>1</td>\n",
       "      <td>1</td>\n",
       "    </tr>\n",
       "    <tr>\n",
       "      <th>4</th>\n",
       "      <td>4</td>\n",
       "      <td>-0.861561</td>\n",
       "      <td>1</td>\n",
       "      <td>-1.022764</td>\n",
       "      <td>-1.266923</td>\n",
       "      <td>-1.627246</td>\n",
       "      <td>-2.312444</td>\n",
       "      <td>1</td>\n",
       "      <td>1</td>\n",
       "      <td>0</td>\n",
       "      <td>0</td>\n",
       "      <td>0</td>\n",
       "      <td>0</td>\n",
       "    </tr>\n",
       "  </tbody>\n",
       "</table>\n",
       "</div>"
      ],
      "text/plain": [
       "   id       age  gender    height    weight     ap_hi     ap_lo  cholesterol  \\\n",
       "0   0 -0.418315       2  0.443881 -0.847599 -1.016518 -0.143537            1   \n",
       "1   1  0.320429       1 -1.022764  0.759808  0.815668  0.940917            3   \n",
       "2   2 -0.270566       1  0.077220 -0.707824  0.204939 -1.227990            3   \n",
       "3   3 -0.713813       2  0.566101  0.550146  1.426396  2.025371            1   \n",
       "4   4 -0.861561       1 -1.022764 -1.266923 -1.627246 -2.312444            1   \n",
       "\n",
       "   gluc  smoke  alco  active  cardio  \n",
       "0     1      0     0       1       0  \n",
       "1     1      0     0       1       1  \n",
       "2     1      0     0       0       1  \n",
       "3     1      0     0       1       1  \n",
       "4     1      0     0       0       0  "
      ]
     },
     "execution_count": 6,
     "metadata": {},
     "output_type": "execute_result"
    }
   ],
   "source": [
    "data = pd.read_csv(\"../data/processed/processed_data.csv\")\n",
    "\n",
    "data.head()"
   ]
  },
  {
   "cell_type": "code",
   "execution_count": 8,
   "id": "0f819e60",
   "metadata": {},
   "outputs": [],
   "source": [
    "# Drop the 'id' column\n",
    "X = data.drop(columns=['id', 'cardio'])\n",
    "y = data['cardio']"
   ]
  },
  {
   "cell_type": "code",
   "execution_count": 10,
   "id": "4fe1040c",
   "metadata": {},
   "outputs": [
    {
     "name": "stdout",
     "output_type": "stream",
     "text": [
      "✅ Train-test splits saved to processed data folder!\n"
     ]
    }
   ],
   "source": [
    "# Split the data into training and testing sets\n",
    "X_train, X_test, y_train, y_test = train_test_split(X, y, test_size=0.2, random_state=42)\n",
    "\n",
    "# Save splits\n",
    "X_train.to_csv(\"../data/processed/X_train.csv\", index=False)\n",
    "X_test.to_csv(\"../data/processed/X_test.csv\", index=False)\n",
    "y_train.to_csv(\"../data/processed/y_train.csv\", index=False)\n",
    "y_test.to_csv(\"../data/processed/y_test.csv\", index=False)\n",
    "\n",
    "print(\"✅ Train-test splits saved to processed data folder!\")"
   ]
  },
  {
   "cell_type": "markdown",
   "id": "60bf56d7",
   "metadata": {},
   "source": [
    "## Logistic Regression "
   ]
  },
  {
   "cell_type": "code",
   "execution_count": 11,
   "id": "180a5e1f",
   "metadata": {},
   "outputs": [
    {
     "name": "stdout",
     "output_type": "stream",
     "text": [
      "Logistic Regression Training Accuracy: 0.7295\n",
      "Logistic Regression Test Accuracy: 0.7202\n",
      "Logistic Regression Classification Report:\n",
      "              precision    recall  f1-score   support\n",
      "\n",
      "           0       0.70      0.78      0.74      6988\n",
      "           1       0.74      0.66      0.70      6696\n",
      "\n",
      "    accuracy                           0.72     13684\n",
      "   macro avg       0.72      0.72      0.72     13684\n",
      "weighted avg       0.72      0.72      0.72     13684\n",
      "\n"
     ]
    }
   ],
   "source": [
    "# Initialize Logistic Regression model\n",
    "logreg_model = LogisticRegression(random_state=42)\n",
    "\n",
    "# Train the model\n",
    "logreg_model.fit(X_train, y_train)\n",
    "\n",
    "# Make predictions on training and test sets\n",
    "y_pred_train_logreg = logreg_model.predict(X_train)\n",
    "y_pred_test_logreg = logreg_model.predict(X_test)\n",
    "\n",
    "# Compute training and test accuracies\n",
    "train_accuracy_logreg = accuracy_score(y_train, y_pred_train_logreg)\n",
    "test_accuracy_logreg = accuracy_score(y_test, y_pred_test_logreg)\n",
    "\n",
    "# Get classification report for detailed metrices \n",
    "class_report_logreg = classification_report(y_test, y_pred_test_logreg)\n",
    "\n",
    "# Display results\n",
    "print(f\"Logistic Regression Training Accuracy: {train_accuracy_logreg:.4f}\")\n",
    "print(f\"Logistic Regression Test Accuracy: {test_accuracy_logreg:.4f}\")\n",
    "print(f\"Logistic Regression Classification Report:\\n{class_report_logreg}\")"
   ]
  },
  {
   "cell_type": "markdown",
   "id": "2aa81d92",
   "metadata": {},
   "source": [
    "## Random Forest "
   ]
  },
  {
   "cell_type": "code",
   "execution_count": 12,
   "id": "5cfd0fb4",
   "metadata": {},
   "outputs": [
    {
     "name": "stdout",
     "output_type": "stream",
     "text": [
      "Random Forest Training Accuracy: 0.9797\n",
      "Random Forest Test Accuracy: 0.7056\n",
      "Random Forest Classification Report:\n",
      "              precision    recall  f1-score   support\n",
      "\n",
      "           0       0.71      0.72      0.71      6988\n",
      "           1       0.70      0.69      0.70      6696\n",
      "\n",
      "    accuracy                           0.71     13684\n",
      "   macro avg       0.71      0.71      0.71     13684\n",
      "weighted avg       0.71      0.71      0.71     13684\n",
      "\n"
     ]
    }
   ],
   "source": [
    "# Initialize Random Forest model\n",
    "rf_model = RandomForestClassifier(random_state=42)\n",
    "\n",
    "# Train the model\n",
    "rf_model.fit(X_train, y_train)\n",
    "\n",
    "# Make predictions on training and test sets\n",
    "y_pred_train_rf = rf_model.predict(X_train)\n",
    "y_pred_test_rf = rf_model.predict(X_test)\n",
    "\n",
    "# Compute training and test accuracies\n",
    "train_accuracy_rf = accuracy_score(y_train, y_pred_train_rf)\n",
    "test_accuracy_rf = accuracy_score(y_test, y_pred_test_rf)\n",
    "\n",
    "# Get classification report for detailed metrics\n",
    "class_report_rf = classification_report(y_test, y_pred_test_rf)\n",
    "\n",
    "# Display results\n",
    "print(f\"Random Forest Training Accuracy: {train_accuracy_rf:.4f}\")\n",
    "print(f\"Random Forest Test Accuracy: {test_accuracy_rf:.4f}\")\n",
    "print(f\"Random Forest Classification Report:\\n{class_report_rf}\")"
   ]
  },
  {
   "cell_type": "markdown",
   "id": "bc381847",
   "metadata": {},
   "source": [
    "## KNeighborsClassifier (KNN)"
   ]
  },
  {
   "cell_type": "code",
   "execution_count": 13,
   "id": "df06c0ae",
   "metadata": {},
   "outputs": [
    {
     "name": "stdout",
     "output_type": "stream",
     "text": [
      "K-Nearest Neighbors Training Accuracy: 0.7834\n",
      "K-Nearest Neighbors Test Accuracy: 0.6950\n",
      "K-Nearest Neighbors Classification Report:\n",
      "              precision    recall  f1-score   support\n",
      "\n",
      "           0       0.70      0.71      0.70      6988\n",
      "           1       0.69      0.68      0.69      6696\n",
      "\n",
      "    accuracy                           0.70     13684\n",
      "   macro avg       0.69      0.69      0.69     13684\n",
      "weighted avg       0.69      0.70      0.69     13684\n",
      "\n"
     ]
    }
   ],
   "source": [
    "# Initialize KNN model\n",
    "knn_model = KNeighborsClassifier()\n",
    "\n",
    "# Train the model\n",
    "knn_model.fit(X_train, y_train)\n",
    "\n",
    "# Make predictions on training and test sets\n",
    "y_pred_train_knn = knn_model.predict(X_train)\n",
    "y_pred_test_knn = knn_model.predict(X_test)\n",
    "\n",
    "# Compute training and test accuracies\n",
    "train_accuracy_knn = accuracy_score(y_train, y_pred_train_knn)\n",
    "test_accuracy_knn = accuracy_score(y_test, y_pred_test_knn)\n",
    "\n",
    "# Get classification report for detailed metrics\n",
    "class_report_knn = classification_report(y_test, y_pred_test_knn)\n",
    "\n",
    "# Display results\n",
    "print(f\"K-Nearest Neighbors Training Accuracy: {train_accuracy_knn:.4f}\")\n",
    "print(f\"K-Nearest Neighbors Test Accuracy: {test_accuracy_knn:.4f}\")\n",
    "print(f\"K-Nearest Neighbors Classification Report:\\n{class_report_knn}\")"
   ]
  },
  {
   "cell_type": "markdown",
   "id": "e59046a0",
   "metadata": {},
   "source": [
    "## K-Means"
   ]
  },
  {
   "cell_type": "code",
   "execution_count": 18,
   "id": "bedc839f",
   "metadata": {},
   "outputs": [
    {
     "name": "stdout",
     "output_type": "stream",
     "text": [
      "Mode result for cluster 0: ModeResult(mode=np.int64(1), count=np.int64(15134))\n",
      "Mode result for cluster 1: ModeResult(mode=np.int64(0), count=np.int64(23396))\n",
      "K-Means Training Accuracy: 0.7040\n",
      "K-Means Test Accuracy: 0.7028\n",
      "K-Means Classification Report:\n",
      "              precision    recall  f1-score   support\n",
      "\n",
      "           0       0.66      0.85      0.74      6988\n",
      "           1       0.78      0.55      0.65      6696\n",
      "\n",
      "    accuracy                           0.70     13684\n",
      "   macro avg       0.72      0.70      0.69     13684\n",
      "weighted avg       0.72      0.70      0.70     13684\n",
      "\n"
     ]
    }
   ],
   "source": [
    "from scipy.stats import mode\n",
    "import numpy as np\n",
    "from sklearn.cluster import KMeans\n",
    "\n",
    "# Fit KMeans on training features (usually after scaling!)\n",
    "kmeans = KMeans(n_clusters=2, random_state=42)\n",
    "train_clusters = kmeans.fit_predict(X_train)\n",
    "test_clusters = kmeans.predict(X_test)\n",
    "\n",
    "# Find the most common label for each cluster (cluster 0 and cluster 1)\n",
    "mode_result_0 = mode(y_train[train_clusters == 0])\n",
    "mode_result_1 = mode(y_train[train_clusters == 1])\n",
    "\n",
    "# Check the mode result to debug\n",
    "print(\"Mode result for cluster 0:\", mode_result_0)\n",
    "print(\"Mode result for cluster 1:\", mode_result_1)\n",
    "\n",
    "# Safe access to mode value\n",
    "if isinstance(mode_result_0.mode, np.ndarray):\n",
    "    cluster_0_mode = mode_result_0.mode[0]\n",
    "else:\n",
    "    cluster_0_mode = mode_result_0.mode  # If mode is scalar, take it directly\n",
    "\n",
    "if isinstance(mode_result_1.mode, np.ndarray):\n",
    "    cluster_1_mode = mode_result_1.mode[0]\n",
    "else:\n",
    "    cluster_1_mode = mode_result_1.mode  # If mode is scalar, take it directly\n",
    "\n",
    "# Map clusters to actual labels\n",
    "train_predictions = np.where(\n",
    "    train_clusters == 0, cluster_0_mode, cluster_1_mode)\n",
    "test_predictions = np.where(test_clusters == 0, cluster_0_mode, cluster_1_mode)\n",
    "\n",
    "# Compute training and test accuracies\n",
    "train_accuracy_kmeans = accuracy_score(y_train, train_predictions)\n",
    "test_accuracy_kmeans = accuracy_score(y_test, test_predictions)\n",
    "\n",
    "# Get classification report for detailed metrics\n",
    "class_report_kmeans = classification_report(y_test, test_predictions)\n",
    "\n",
    "# Display results\n",
    "print(f\"K-Means Training Accuracy: {train_accuracy_kmeans:.4f}\")\n",
    "print(f\"K-Means Test Accuracy: {test_accuracy_kmeans:.4f}\")\n",
    "print(f\"K-Means Classification Report:\\n{class_report_kmeans}\")"
   ]
  },
  {
   "cell_type": "markdown",
   "id": "e4cbf7f0",
   "metadata": {},
   "source": [
    "## SVM"
   ]
  },
  {
   "cell_type": "code",
   "execution_count": 20,
   "id": "3561d36d",
   "metadata": {},
   "outputs": [
    {
     "name": "stdout",
     "output_type": "stream",
     "text": [
      "SVM Training Accuracy: 0.7269\n",
      "SVM Test Accuracy: 0.7206\n",
      "SVM Classification Report:\n",
      "              precision    recall  f1-score   support\n",
      "\n",
      "           0       0.69      0.81      0.75      6988\n",
      "           1       0.76      0.63      0.69      6696\n",
      "\n",
      "    accuracy                           0.72     13684\n",
      "   macro avg       0.73      0.72      0.72     13684\n",
      "weighted avg       0.73      0.72      0.72     13684\n",
      "\n"
     ]
    }
   ],
   "source": [
    "# Initialize SVM model\n",
    "svm_model = SVC(kernel='linear', random_state=42)\n",
    "\n",
    "# Train the model\n",
    "svm_model.fit(X_train, y_train)\n",
    "\n",
    "# Make predictions on training and test sets\n",
    "y_pred_train_svm = svm_model.predict(X_train)\n",
    "y_pred_test_svm = svm_model.predict(X_test)\n",
    "\n",
    "# Compute training and test accuracies\n",
    "train_accuracy_svm = accuracy_score(y_train, y_pred_train_svm)\n",
    "test_accuracy_svm = accuracy_score(y_test, y_pred_test_svm)\n",
    "\n",
    "# Get classification report for detailed metrics\n",
    "class_report_svm = classification_report(y_test, y_pred_test_svm)\n",
    "\n",
    "# Display results\n",
    "print(f\"SVM Training Accuracy: {train_accuracy_svm:.4f}\")\n",
    "print(f\"SVM Test Accuracy: {test_accuracy_svm:.4f}\")\n",
    "print(f\"SVM Classification Report:\\n{class_report_svm}\")"
   ]
  },
  {
   "cell_type": "markdown",
   "id": "a57ec1fa",
   "metadata": {},
   "source": [
    "# Saving the Models "
   ]
  },
  {
   "cell_type": "markdown",
   "id": "5956e335",
   "metadata": {},
   "source": []
  },
  {
   "cell_type": "code",
   "execution_count": 26,
   "id": "cb7920ac",
   "metadata": {},
   "outputs": [
    {
     "name": "stdout",
     "output_type": "stream",
     "text": [
      "✅ SVM model saved to models/svm_model_linear.pkl\n",
      "✅ KMeans model saved to models/kmeans_model.pkl\n",
      "✅ KNN model saved to models/knn_model.pkl\n"
     ]
    },
    {
     "name": "stdout",
     "output_type": "stream",
     "text": [
      "✅ Random Forest model saved to models/random_forest_model.pkl\n",
      "✅ Logistic Regression model saved to models/logistic_regression_model.pkl\n"
     ]
    }
   ],
   "source": [
    "import joblib\n",
    "\n",
    "# Save the SVM trained model\n",
    "joblib.dump(svm_model, \"../models/svm_model_linear.pkl\")\n",
    "print(\"✅ SVM model saved to models/svm_model_linear.pkl\")\n",
    "\n",
    "# Save the KMeans model\n",
    "joblib.dump(kmeans, \"../models/kmeans_model.pkl\")\n",
    "print(\"✅ KMeans model saved to models/kmeans_model.pkl\")\n",
    "\n",
    "# Save the KNN model\n",
    "joblib.dump(knn_model, \"../models/knn_model.pkl\")\n",
    "print(\"✅ KNN model saved to models/knn_model.pkl\")\n",
    "\n",
    "# Save the Random Forest model\n",
    "joblib.dump(rf_model, \"../models/random_forest_model.pkl\")\n",
    "print(\"✅ Random Forest model saved to models/random_forest_model.pkl\")\n",
    "\n",
    "# Save the Logistic Regression model\n",
    "joblib.dump(logreg_model, \"../models/logistic_regression_model.pkl\")\n",
    "print(\"✅ Logistic Regression model saved to models/logistic_regression_model.pkl\")"
   ]
  },
  {
   "cell_type": "markdown",
   "id": "2f61e63f",
   "metadata": {},
   "source": [
    "# ✅ Code to Load All Saved Models"
   ]
  },
  {
   "cell_type": "code",
   "execution_count": 30,
   "id": "927f6ebc",
   "metadata": {},
   "outputs": [
    {
     "name": "stdout",
     "output_type": "stream",
     "text": [
      "✅ Loaded: svm model from ../models/svm_model_linear.pkl\n",
      "✅ Loaded: kmeans model from ../models/kmeans_model.pkl\n",
      "✅ Loaded: knn model from ../models/knn_model.pkl\n",
      "✅ Loaded: random_forest model from ../models/random_forest_model.pkl\n",
      "✅ Loaded: logistic_regression model from ../models/logistic_regression_model.pkl\n"
     ]
    }
   ],
   "source": [
    "import os\n",
    "\n",
    "# Define model paths\n",
    "model_paths = {\n",
    "    \"svm\": \"../models/svm_model_linear.pkl\",\n",
    "    \"kmeans\": \"../models/kmeans_model.pkl\",\n",
    "    \"knn\": \"../models/knn_model.pkl\",\n",
    "    \"random_forest\": \"../models/random_forest_model.pkl\",\n",
    "    \"logistic_regression\": \"../models/logistic_regression_model.pkl\"\n",
    "}\n",
    "\n",
    "# Load models\n",
    "models = {}\n",
    "\n",
    "for name, path in model_paths.items():\n",
    "    if os.path.exists(path):\n",
    "        models[name] = joblib.load(path)\n",
    "        print(f\"✅ Loaded: {name} model from {path}\")\n",
    "    else:\n",
    "        print(f\"❌ File not found for: {name} model at {path}\")"
   ]
  },
  {
   "cell_type": "code",
   "execution_count": null,
   "id": "c9513cda",
   "metadata": {},
   "outputs": [],
   "source": []
  }
 ],
 "metadata": {
  "kernelspec": {
   "display_name": "Python 3",
   "language": "python",
   "name": "python3"
  },
  "language_info": {
   "codemirror_mode": {
    "name": "ipython",
    "version": 3
   },
   "file_extension": ".py",
   "mimetype": "text/x-python",
   "name": "python",
   "nbconvert_exporter": "python",
   "pygments_lexer": "ipython3",
   "version": "3.12.4"
  }
 },
 "nbformat": 4,
 "nbformat_minor": 5
}
