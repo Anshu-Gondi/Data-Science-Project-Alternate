{
 "cells": [
  {
   "cell_type": "markdown",
   "metadata": {},
   "source": [
    "# Data Preprocessing :"
   ]
  },
  {
   "cell_type": "markdown",
   "metadata": {},
   "source": [
    "## Importing Required Libraries"
   ]
  },
  {
   "cell_type": "code",
   "execution_count": 1,
   "metadata": {},
   "outputs": [],
   "source": [
    "# Suppress warnings\n",
    "\n",
    "import warnings\n",
    "warnings.simplefilter(\"ignore\")\n",
    "\n",
    "# Data handling and processing\n",
    "\n",
    "import pandas as pd  \n",
    "import numpy as np  \n",
    "from scipy import stats\n",
    "\n",
    "# Data visualization\n",
    "\n",
    "import matplotlib.pyplot as plt  \n",
    "import seaborn as sns  \n",
    "sns.set()\n",
    "\n",
    "# Data preprocessing\n",
    "\n",
    "from sklearn.preprocessing import StandardScaler  \n",
    "from sklearn.model_selection import train_test_split  \n",
    "from sklearn.model_selection import cross_val_score\n"
   ]
  },
  {
   "cell_type": "markdown",
   "metadata": {},
   "source": [
    "## Load Dataset"
   ]
  },
  {
   "cell_type": "code",
   "execution_count": 2,
   "metadata": {},
   "outputs": [],
   "source": [
    "data = pd.read_csv(\"../data/raw/cardio_train.csv\", sep=\";\")"
   ]
  },
  {
   "cell_type": "markdown",
   "metadata": {},
   "source": [
    "### Data Cleaning"
   ]
  },
  {
   "cell_type": "markdown",
   "metadata": {},
   "source": [
    "### Age Column\n",
    "Issue: The age was recorded in days, leading to unusually high mean values.\n",
    "\n",
    "Solution: Converted age from days to years by dividing the values by 365.\n",
    "\n",
    "Technique Used: Unit transformation."
   ]
  },
  {
   "cell_type": "code",
   "execution_count": 3,
   "metadata": {},
   "outputs": [],
   "source": [
    "data['age'] = data['age'] // 365"
   ]
  },
  {
   "cell_type": "markdown",
   "metadata": {},
   "source": [
    "### Blood Pressure (ap_hi, ap_lo)\n",
    "Issue: Extreme and erroneous values (e.g., negative values for blood pressure). Solution: Removed rows with systolic blood pressure (ap_hi) outside 90–200 mmHg and diastolic blood pressure (ap_lo) outside 60–120 mmHg.\n",
    "\n",
    "Technique Used: Threshold-based filtering which is commonly used to handle outliers, eliminate noise, or select relevant features."
   ]
  },
  {
   "cell_type": "code",
   "execution_count": 4,
   "metadata": {},
   "outputs": [],
   "source": [
    "data = data[(data['ap_hi'] >= 90) & (data['ap_hi'] <= 200)]\n",
    "data = data[(data['ap_lo'] >= 60) & (data['ap_lo'] <= 120)]"
   ]
  },
  {
   "cell_type": "markdown",
   "metadata": {},
   "source": [
    "### Cholesterol and Glucose (gluc)\n",
    "Issue: Potential invalid entries; these columns should only contain categorical values (1, 2, 3).\n",
    "\n",
    "Solution: Filtered rows where values in these columns were outside the valid range.\n",
    "\n",
    "Technique Used: Value verification."
   ]
  },
  {
   "cell_type": "code",
   "execution_count": 5,
   "metadata": {},
   "outputs": [],
   "source": [
    "valid_categories = [1, 2, 3]\n",
    "data = data[data['cholesterol'].isin(valid_categories)]\n",
    "data = data[data['gluc'].isin(valid_categories)]"
   ]
  },
  {
   "cell_type": "markdown",
   "metadata": {},
   "source": [
    "### Binary Variables (smoke, alco, active)\n",
    "Issue: Binary variables should only contain 0 and 1; potential for incorrect values.\n",
    "\n",
    "Solution: Verified and removed rows where these variables had values other than 0 or 1.\n",
    "\n",
    "Technique Used: Value validation for binary features."
   ]
  },
  {
   "cell_type": "code",
   "execution_count": 6,
   "metadata": {},
   "outputs": [],
   "source": [
    "binary_columns = ['smoke', 'alco', 'active']\n",
    "for col in binary_columns:\n",
    "    data = data[data[col].isin([0, 1])]"
   ]
  },
  {
   "cell_type": "markdown",
   "metadata": {},
   "source": [
    "### Rechecking After Cleaning"
   ]
  },
  {
   "cell_type": "code",
   "execution_count": 7,
   "metadata": {},
   "outputs": [
    {
     "data": {
      "application/vnd.microsoft.datawrangler.viewer.v0+json": {
       "columns": [
        {
         "name": "index",
         "rawType": "object",
         "type": "string"
        },
        {
         "name": "id",
         "rawType": "float64",
         "type": "float"
        },
        {
         "name": "age",
         "rawType": "float64",
         "type": "float"
        },
        {
         "name": "gender",
         "rawType": "float64",
         "type": "float"
        },
        {
         "name": "height",
         "rawType": "float64",
         "type": "float"
        },
        {
         "name": "weight",
         "rawType": "float64",
         "type": "float"
        },
        {
         "name": "ap_hi",
         "rawType": "float64",
         "type": "float"
        },
        {
         "name": "ap_lo",
         "rawType": "float64",
         "type": "float"
        },
        {
         "name": "cholesterol",
         "rawType": "float64",
         "type": "float"
        },
        {
         "name": "gluc",
         "rawType": "float64",
         "type": "float"
        },
        {
         "name": "smoke",
         "rawType": "float64",
         "type": "float"
        },
        {
         "name": "alco",
         "rawType": "float64",
         "type": "float"
        },
        {
         "name": "active",
         "rawType": "float64",
         "type": "float"
        },
        {
         "name": "cardio",
         "rawType": "float64",
         "type": "float"
        }
       ],
       "conversionMethod": "pd.DataFrame",
       "ref": "735158b5-5e63-42ea-b8a4-a57a866c920b",
       "rows": [
        [
         "count",
         "68418.0",
         "68418.0",
         "68418.0",
         "68418.0",
         "68418.0",
         "68418.0",
         "68418.0",
         "68418.0",
         "68418.0",
         "68418.0",
         "68418.0",
         "68418.0",
         "68418.0"
        ],
        [
         "mean",
         "49973.445292174576",
         "52.831257856119734",
         "1.3487824841416",
         "164.36819258089977",
         "74.12809056096349",
         "126.64434797860213",
         "81.3235844368441",
         "1.3643047151334444",
         "1.22562775877693",
         "0.08782776462334474",
         "0.053333917974801956",
         "0.8034435382501681",
         "0.49479669092928763"
        ],
        [
         "std",
         "28847.05200228083",
         "6.7682934970792905",
         "0.4765884836357749",
         "8.182001171860339",
         "14.308864561282238",
         "16.374010875628937",
         "9.221299408302805",
         "0.6788026075661252",
         "0.5716553993510776",
         "0.2830463201520179",
         "0.22470013158459112",
         "0.3973969392458693",
         "0.49997657869301726"
        ],
        [
         "min",
         "0.0",
         "29.0",
         "1.0",
         "55.0",
         "11.0",
         "90.0",
         "60.0",
         "1.0",
         "1.0",
         "0.0",
         "0.0",
         "0.0",
         "0.0"
        ],
        [
         "25%",
         "25002.25",
         "48.0",
         "1.0",
         "159.0",
         "65.0",
         "120.0",
         "80.0",
         "1.0",
         "1.0",
         "0.0",
         "0.0",
         "1.0",
         "0.0"
        ],
        [
         "50%",
         "50006.5",
         "53.0",
         "1.0",
         "165.0",
         "72.0",
         "120.0",
         "80.0",
         "1.0",
         "1.0",
         "0.0",
         "0.0",
         "1.0",
         "0.0"
        ],
        [
         "75%",
         "74875.5",
         "58.0",
         "2.0",
         "170.0",
         "82.0",
         "140.0",
         "90.0",
         "1.0",
         "1.0",
         "0.0",
         "0.0",
         "1.0",
         "1.0"
        ],
        [
         "max",
         "99999.0",
         "64.0",
         "2.0",
         "250.0",
         "200.0",
         "200.0",
         "120.0",
         "3.0",
         "3.0",
         "1.0",
         "1.0",
         "1.0",
         "1.0"
        ]
       ],
       "shape": {
        "columns": 13,
        "rows": 8
       }
      },
      "text/html": [
       "<div>\n",
       "<style scoped>\n",
       "    .dataframe tbody tr th:only-of-type {\n",
       "        vertical-align: middle;\n",
       "    }\n",
       "\n",
       "    .dataframe tbody tr th {\n",
       "        vertical-align: top;\n",
       "    }\n",
       "\n",
       "    .dataframe thead th {\n",
       "        text-align: right;\n",
       "    }\n",
       "</style>\n",
       "<table border=\"1\" class=\"dataframe\">\n",
       "  <thead>\n",
       "    <tr style=\"text-align: right;\">\n",
       "      <th></th>\n",
       "      <th>id</th>\n",
       "      <th>age</th>\n",
       "      <th>gender</th>\n",
       "      <th>height</th>\n",
       "      <th>weight</th>\n",
       "      <th>ap_hi</th>\n",
       "      <th>ap_lo</th>\n",
       "      <th>cholesterol</th>\n",
       "      <th>gluc</th>\n",
       "      <th>smoke</th>\n",
       "      <th>alco</th>\n",
       "      <th>active</th>\n",
       "      <th>cardio</th>\n",
       "    </tr>\n",
       "  </thead>\n",
       "  <tbody>\n",
       "    <tr>\n",
       "      <th>count</th>\n",
       "      <td>68418.000000</td>\n",
       "      <td>68418.000000</td>\n",
       "      <td>68418.000000</td>\n",
       "      <td>68418.000000</td>\n",
       "      <td>68418.000000</td>\n",
       "      <td>68418.000000</td>\n",
       "      <td>68418.000000</td>\n",
       "      <td>68418.000000</td>\n",
       "      <td>68418.000000</td>\n",
       "      <td>68418.000000</td>\n",
       "      <td>68418.000000</td>\n",
       "      <td>68418.000000</td>\n",
       "      <td>68418.000000</td>\n",
       "    </tr>\n",
       "    <tr>\n",
       "      <th>mean</th>\n",
       "      <td>49973.445292</td>\n",
       "      <td>52.831258</td>\n",
       "      <td>1.348782</td>\n",
       "      <td>164.368193</td>\n",
       "      <td>74.128091</td>\n",
       "      <td>126.644348</td>\n",
       "      <td>81.323584</td>\n",
       "      <td>1.364305</td>\n",
       "      <td>1.225628</td>\n",
       "      <td>0.087828</td>\n",
       "      <td>0.053334</td>\n",
       "      <td>0.803444</td>\n",
       "      <td>0.494797</td>\n",
       "    </tr>\n",
       "    <tr>\n",
       "      <th>std</th>\n",
       "      <td>28847.052002</td>\n",
       "      <td>6.768293</td>\n",
       "      <td>0.476588</td>\n",
       "      <td>8.182001</td>\n",
       "      <td>14.308865</td>\n",
       "      <td>16.374011</td>\n",
       "      <td>9.221299</td>\n",
       "      <td>0.678803</td>\n",
       "      <td>0.571655</td>\n",
       "      <td>0.283046</td>\n",
       "      <td>0.224700</td>\n",
       "      <td>0.397397</td>\n",
       "      <td>0.499977</td>\n",
       "    </tr>\n",
       "    <tr>\n",
       "      <th>min</th>\n",
       "      <td>0.000000</td>\n",
       "      <td>29.000000</td>\n",
       "      <td>1.000000</td>\n",
       "      <td>55.000000</td>\n",
       "      <td>11.000000</td>\n",
       "      <td>90.000000</td>\n",
       "      <td>60.000000</td>\n",
       "      <td>1.000000</td>\n",
       "      <td>1.000000</td>\n",
       "      <td>0.000000</td>\n",
       "      <td>0.000000</td>\n",
       "      <td>0.000000</td>\n",
       "      <td>0.000000</td>\n",
       "    </tr>\n",
       "    <tr>\n",
       "      <th>25%</th>\n",
       "      <td>25002.250000</td>\n",
       "      <td>48.000000</td>\n",
       "      <td>1.000000</td>\n",
       "      <td>159.000000</td>\n",
       "      <td>65.000000</td>\n",
       "      <td>120.000000</td>\n",
       "      <td>80.000000</td>\n",
       "      <td>1.000000</td>\n",
       "      <td>1.000000</td>\n",
       "      <td>0.000000</td>\n",
       "      <td>0.000000</td>\n",
       "      <td>1.000000</td>\n",
       "      <td>0.000000</td>\n",
       "    </tr>\n",
       "    <tr>\n",
       "      <th>50%</th>\n",
       "      <td>50006.500000</td>\n",
       "      <td>53.000000</td>\n",
       "      <td>1.000000</td>\n",
       "      <td>165.000000</td>\n",
       "      <td>72.000000</td>\n",
       "      <td>120.000000</td>\n",
       "      <td>80.000000</td>\n",
       "      <td>1.000000</td>\n",
       "      <td>1.000000</td>\n",
       "      <td>0.000000</td>\n",
       "      <td>0.000000</td>\n",
       "      <td>1.000000</td>\n",
       "      <td>0.000000</td>\n",
       "    </tr>\n",
       "    <tr>\n",
       "      <th>75%</th>\n",
       "      <td>74875.500000</td>\n",
       "      <td>58.000000</td>\n",
       "      <td>2.000000</td>\n",
       "      <td>170.000000</td>\n",
       "      <td>82.000000</td>\n",
       "      <td>140.000000</td>\n",
       "      <td>90.000000</td>\n",
       "      <td>1.000000</td>\n",
       "      <td>1.000000</td>\n",
       "      <td>0.000000</td>\n",
       "      <td>0.000000</td>\n",
       "      <td>1.000000</td>\n",
       "      <td>1.000000</td>\n",
       "    </tr>\n",
       "    <tr>\n",
       "      <th>max</th>\n",
       "      <td>99999.000000</td>\n",
       "      <td>64.000000</td>\n",
       "      <td>2.000000</td>\n",
       "      <td>250.000000</td>\n",
       "      <td>200.000000</td>\n",
       "      <td>200.000000</td>\n",
       "      <td>120.000000</td>\n",
       "      <td>3.000000</td>\n",
       "      <td>3.000000</td>\n",
       "      <td>1.000000</td>\n",
       "      <td>1.000000</td>\n",
       "      <td>1.000000</td>\n",
       "      <td>1.000000</td>\n",
       "    </tr>\n",
       "  </tbody>\n",
       "</table>\n",
       "</div>"
      ],
      "text/plain": [
       "                 id           age        gender        height        weight  \\\n",
       "count  68418.000000  68418.000000  68418.000000  68418.000000  68418.000000   \n",
       "mean   49973.445292     52.831258      1.348782    164.368193     74.128091   \n",
       "std    28847.052002      6.768293      0.476588      8.182001     14.308865   \n",
       "min        0.000000     29.000000      1.000000     55.000000     11.000000   \n",
       "25%    25002.250000     48.000000      1.000000    159.000000     65.000000   \n",
       "50%    50006.500000     53.000000      1.000000    165.000000     72.000000   \n",
       "75%    74875.500000     58.000000      2.000000    170.000000     82.000000   \n",
       "max    99999.000000     64.000000      2.000000    250.000000    200.000000   \n",
       "\n",
       "              ap_hi         ap_lo   cholesterol          gluc         smoke  \\\n",
       "count  68418.000000  68418.000000  68418.000000  68418.000000  68418.000000   \n",
       "mean     126.644348     81.323584      1.364305      1.225628      0.087828   \n",
       "std       16.374011      9.221299      0.678803      0.571655      0.283046   \n",
       "min       90.000000     60.000000      1.000000      1.000000      0.000000   \n",
       "25%      120.000000     80.000000      1.000000      1.000000      0.000000   \n",
       "50%      120.000000     80.000000      1.000000      1.000000      0.000000   \n",
       "75%      140.000000     90.000000      1.000000      1.000000      0.000000   \n",
       "max      200.000000    120.000000      3.000000      3.000000      1.000000   \n",
       "\n",
       "               alco        active        cardio  \n",
       "count  68418.000000  68418.000000  68418.000000  \n",
       "mean       0.053334      0.803444      0.494797  \n",
       "std        0.224700      0.397397      0.499977  \n",
       "min        0.000000      0.000000      0.000000  \n",
       "25%        0.000000      1.000000      0.000000  \n",
       "50%        0.000000      1.000000      0.000000  \n",
       "75%        0.000000      1.000000      1.000000  \n",
       "max        1.000000      1.000000      1.000000  "
      ]
     },
     "execution_count": 7,
     "metadata": {},
     "output_type": "execute_result"
    }
   ],
   "source": [
    "data.describe()"
   ]
  },
  {
   "cell_type": "code",
   "execution_count": 8,
   "metadata": {},
   "outputs": [
    {
     "data": {
      "text/plain": [
       "id             0\n",
       "age            0\n",
       "gender         0\n",
       "height         0\n",
       "weight         0\n",
       "ap_hi          0\n",
       "ap_lo          0\n",
       "cholesterol    0\n",
       "gluc           0\n",
       "smoke          0\n",
       "alco           0\n",
       "active         0\n",
       "cardio         0\n",
       "dtype: int64"
      ]
     },
     "execution_count": 8,
     "metadata": {},
     "output_type": "execute_result"
    }
   ],
   "source": [
    "data.isnull().sum()"
   ]
  },
  {
   "cell_type": "code",
   "execution_count": null,
   "metadata": {},
   "outputs": [
    {
     "data": {
      "image/png": "[encoded data removed]",
      "text/plain": [
       "<Figure size 1000x600 with 1 Axes>"
      ]
     },
     "metadata": {},
     "output_type": "display_data"
    }
   ],
   "source": [
    "# Boxplot for cleaned numerical features\n",
    "data[['age', 'ap_hi', 'ap_lo']].boxplot(figsize=(10, 6))\n",
    "plt.title(\"Boxplot of Cleaned Numerical Features\")\n",
    "plt.show()"
   ]
  },
  {
   "cell_type": "markdown",
   "metadata": {},
   "source": [
    "### transfer the data to proprocess one"
   ]
  },
  {
   "cell_type": "code",
   "execution_count": 10,
   "metadata": {},
   "outputs": [],
   "source": [
    "processed_data = data"
   ]
  },
  {
   "cell_type": "code",
   "execution_count": 11,
   "metadata": {},
   "outputs": [
    {
     "name": "stdout",
     "output_type": "stream",
     "text": [
      "Preprocessed data saved successfully!\n"
     ]
    }
   ],
   "source": [
    "# Save preprocessed data\n",
    "processed_data.to_csv(\"../data/processed/processed_data.csv\", index=False)\n",
    "\n",
    "print(\"Preprocessed data saved successfully!\")"
   ]
  },
  {
   "cell_type": "code",
   "execution_count": 12,
   "metadata": {},
   "outputs": [
    {
     "name": "stdout",
     "output_type": "stream",
     "text": [
      "   id  age  gender  height  weight  ap_hi  ap_lo  cholesterol  gluc  smoke  \\\n",
      "0   0   50       2     168    62.0    110     80            1     1      0   \n",
      "1   1   55       1     156    85.0    140     90            3     1      0   \n",
      "2   2   51       1     165    64.0    130     70            3     1      0   \n",
      "3   3   48       2     169    82.0    150    100            1     1      0   \n",
      "4   4   47       1     156    56.0    100     60            1     1      0   \n",
      "\n",
      "   alco  active  cardio  \n",
      "0     0       1       0  \n",
      "1     0       1       1  \n",
      "2     0       0       1  \n",
      "3     0       1       1  \n",
      "4     0       0       0  \n"
     ]
    }
   ],
   "source": [
    "print(processed_data.head())  # Check if data exists"
   ]
  }
 ],
 "metadata": {
  "kernelspec": {
   "display_name": "Python 3",
   "language": "python",
   "name": "python3"
  },
  "language_info": {
   "codemirror_mode": {
    "name": "ipython",
    "version": 3
   },
   "file_extension": ".py",
   "mimetype": "text/x-python",
   "name": "python",
   "nbconvert_exporter": "python",
   "pygments_lexer": "ipython3",
   "version": "3.12.4"
  }
 },
 "nbformat": 4,
 "nbformat_minor": 2
}
