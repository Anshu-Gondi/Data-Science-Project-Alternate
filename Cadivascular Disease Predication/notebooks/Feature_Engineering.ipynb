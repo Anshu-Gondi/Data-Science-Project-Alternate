{
 "cells": [
  {
   "cell_type": "markdown",
   "metadata": {},
   "source": [
    "# Feature Engineering"
   ]
  },
  {
   "cell_type": "markdown",
   "metadata": {},
   "source": [
    "## 📌 Import Necessary Libraries for Feature Engineering\n"
   ]
  },
  {
   "cell_type": "code",
   "execution_count": 1,
   "metadata": {},
   "outputs": [],
   "source": [
    "# Suppress warnings  \n",
    "import warnings\n",
    "warnings.simplefilter(\"ignore\")\n",
    "\n",
    "# Data handling and processing  \n",
    "import pandas as pd  \n",
    "import numpy as np  \n",
    "from scipy import stats  \n",
    "\n",
    "# Data visualization  \n",
    "import matplotlib.pyplot as plt  \n",
    "import seaborn as sns  \n",
    "sns.set()  \n",
    "\n",
    "# Feature Scaling & Selection  \n",
    "from sklearn.preprocessing import StandardScaler  \n",
    "from sklearn.model_selection import train_test_split  \n",
    "from sklearn.model_selection import cross_val_score  "
   ]
  },
  {
   "cell_type": "markdown",
   "metadata": {},
   "source": [
    "### 📂 Loading the dataset"
   ]
  },
  {
   "cell_type": "code",
   "execution_count": 2,
   "metadata": {},
   "outputs": [
    {
     "data": {
      "application/vnd.microsoft.datawrangler.viewer.v0+json": {
       "columns": [
        {
         "name": "index",
         "rawType": "int64",
         "type": "integer"
        },
        {
         "name": "id",
         "rawType": "int64",
         "type": "integer"
        },
        {
         "name": "age",
         "rawType": "int64",
         "type": "integer"
        },
        {
         "name": "gender",
         "rawType": "int64",
         "type": "integer"
        },
        {
         "name": "height",
         "rawType": "int64",
         "type": "integer"
        },
        {
         "name": "weight",
         "rawType": "float64",
         "type": "float"
        },
        {
         "name": "ap_hi",
         "rawType": "int64",
         "type": "integer"
        },
        {
         "name": "ap_lo",
         "rawType": "int64",
         "type": "integer"
        },
        {
         "name": "cholesterol",
         "rawType": "int64",
         "type": "integer"
        },
        {
         "name": "gluc",
         "rawType": "int64",
         "type": "integer"
        },
        {
         "name": "smoke",
         "rawType": "int64",
         "type": "integer"
        },
        {
         "name": "alco",
         "rawType": "int64",
         "type": "integer"
        },
        {
         "name": "active",
         "rawType": "int64",
         "type": "integer"
        },
        {
         "name": "cardio",
         "rawType": "int64",
         "type": "integer"
        }
       ],
       "conversionMethod": "pd.DataFrame",
       "ref": "8176f025-3227-489d-a1ad-8be2c366a16a",
       "rows": [
        [
         "0",
         "0",
         "50",
         "2",
         "168",
         "62.0",
         "110",
         "80",
         "1",
         "1",
         "0",
         "0",
         "1",
         "0"
        ],
        [
         "1",
         "1",
         "55",
         "1",
         "156",
         "85.0",
         "140",
         "90",
         "3",
         "1",
         "0",
         "0",
         "1",
         "1"
        ],
        [
         "2",
         "2",
         "51",
         "1",
         "165",
         "64.0",
         "130",
         "70",
         "3",
         "1",
         "0",
         "0",
         "0",
         "1"
        ],
        [
         "3",
         "3",
         "48",
         "2",
         "169",
         "82.0",
         "150",
         "100",
         "1",
         "1",
         "0",
         "0",
         "1",
         "1"
        ],
        [
         "4",
         "4",
         "47",
         "1",
         "156",
         "56.0",
         "100",
         "60",
         "1",
         "1",
         "0",
         "0",
         "0",
         "0"
        ]
       ],
       "shape": {
        "columns": 13,
        "rows": 5
       }
      },
      "text/html": [
       "<div>\n",
       "<style scoped>\n",
       "    .dataframe tbody tr th:only-of-type {\n",
       "        vertical-align: middle;\n",
       "    }\n",
       "\n",
       "    .dataframe tbody tr th {\n",
       "        vertical-align: top;\n",
       "    }\n",
       "\n",
       "    .dataframe thead th {\n",
       "        text-align: right;\n",
       "    }\n",
       "</style>\n",
       "<table border=\"1\" class=\"dataframe\">\n",
       "  <thead>\n",
       "    <tr style=\"text-align: right;\">\n",
       "      <th></th>\n",
       "      <th>id</th>\n",
       "      <th>age</th>\n",
       "      <th>gender</th>\n",
       "      <th>height</th>\n",
       "      <th>weight</th>\n",
       "      <th>ap_hi</th>\n",
       "      <th>ap_lo</th>\n",
       "      <th>cholesterol</th>\n",
       "      <th>gluc</th>\n",
       "      <th>smoke</th>\n",
       "      <th>alco</th>\n",
       "      <th>active</th>\n",
       "      <th>cardio</th>\n",
       "    </tr>\n",
       "  </thead>\n",
       "  <tbody>\n",
       "    <tr>\n",
       "      <th>0</th>\n",
       "      <td>0</td>\n",
       "      <td>50</td>\n",
       "      <td>2</td>\n",
       "      <td>168</td>\n",
       "      <td>62.0</td>\n",
       "      <td>110</td>\n",
       "      <td>80</td>\n",
       "      <td>1</td>\n",
       "      <td>1</td>\n",
       "      <td>0</td>\n",
       "      <td>0</td>\n",
       "      <td>1</td>\n",
       "      <td>0</td>\n",
       "    </tr>\n",
       "    <tr>\n",
       "      <th>1</th>\n",
       "      <td>1</td>\n",
       "      <td>55</td>\n",
       "      <td>1</td>\n",
       "      <td>156</td>\n",
       "      <td>85.0</td>\n",
       "      <td>140</td>\n",
       "      <td>90</td>\n",
       "      <td>3</td>\n",
       "      <td>1</td>\n",
       "      <td>0</td>\n",
       "      <td>0</td>\n",
       "      <td>1</td>\n",
       "      <td>1</td>\n",
       "    </tr>\n",
       "    <tr>\n",
       "      <th>2</th>\n",
       "      <td>2</td>\n",
       "      <td>51</td>\n",
       "      <td>1</td>\n",
       "      <td>165</td>\n",
       "      <td>64.0</td>\n",
       "      <td>130</td>\n",
       "      <td>70</td>\n",
       "      <td>3</td>\n",
       "      <td>1</td>\n",
       "      <td>0</td>\n",
       "      <td>0</td>\n",
       "      <td>0</td>\n",
       "      <td>1</td>\n",
       "    </tr>\n",
       "    <tr>\n",
       "      <th>3</th>\n",
       "      <td>3</td>\n",
       "      <td>48</td>\n",
       "      <td>2</td>\n",
       "      <td>169</td>\n",
       "      <td>82.0</td>\n",
       "      <td>150</td>\n",
       "      <td>100</td>\n",
       "      <td>1</td>\n",
       "      <td>1</td>\n",
       "      <td>0</td>\n",
       "      <td>0</td>\n",
       "      <td>1</td>\n",
       "      <td>1</td>\n",
       "    </tr>\n",
       "    <tr>\n",
       "      <th>4</th>\n",
       "      <td>4</td>\n",
       "      <td>47</td>\n",
       "      <td>1</td>\n",
       "      <td>156</td>\n",
       "      <td>56.0</td>\n",
       "      <td>100</td>\n",
       "      <td>60</td>\n",
       "      <td>1</td>\n",
       "      <td>1</td>\n",
       "      <td>0</td>\n",
       "      <td>0</td>\n",
       "      <td>0</td>\n",
       "      <td>0</td>\n",
       "    </tr>\n",
       "  </tbody>\n",
       "</table>\n",
       "</div>"
      ],
      "text/plain": [
       "   id  age  gender  height  weight  ap_hi  ap_lo  cholesterol  gluc  smoke  \\\n",
       "0   0   50       2     168    62.0    110     80            1     1      0   \n",
       "1   1   55       1     156    85.0    140     90            3     1      0   \n",
       "2   2   51       1     165    64.0    130     70            3     1      0   \n",
       "3   3   48       2     169    82.0    150    100            1     1      0   \n",
       "4   4   47       1     156    56.0    100     60            1     1      0   \n",
       "\n",
       "   alco  active  cardio  \n",
       "0     0       1       0  \n",
       "1     0       1       1  \n",
       "2     0       0       1  \n",
       "3     0       1       1  \n",
       "4     0       0       0  "
      ]
     },
     "execution_count": 2,
     "metadata": {},
     "output_type": "execute_result"
    }
   ],
   "source": [
    "data = pd.read_csv(\"../data/processed/processed_data.csv\")\n",
    "\n",
    "data.head()"
   ]
  },
  {
   "cell_type": "markdown",
   "metadata": {},
   "source": [
    "### Standarization"
   ]
  },
  {
   "cell_type": "code",
   "execution_count": 3,
   "metadata": {},
   "outputs": [
    {
     "name": "stdout",
     "output_type": "stream",
     "text": [
      "   id       age  gender    height    weight     ap_hi     ap_lo  cholesterol  \\\n",
      "0   0 -0.418315       2  0.443881 -0.847599 -1.016518 -0.143537            1   \n",
      "1   1  0.320429       1 -1.022764  0.759808  0.815668  0.940917            3   \n",
      "2   2 -0.270566       1  0.077220 -0.707824  0.204939 -1.227990            3   \n",
      "3   3 -0.713813       2  0.566101  0.550146  1.426396  2.025371            1   \n",
      "4   4 -0.861561       1 -1.022764 -1.266923 -1.627246 -2.312444            1   \n",
      "\n",
      "   gluc  smoke  alco  active  cardio  \n",
      "0     1      0     0       1       0  \n",
      "1     1      0     0       1       1  \n",
      "2     1      0     0       0       1  \n",
      "3     1      0     0       1       1  \n",
      "4     1      0     0       0       0  \n"
     ]
    }
   ],
   "source": [
    "from sklearn.preprocessing import StandardScaler\n",
    "# List of numerical columns to scale\n",
    "numerical_features = ['age', 'height', 'weight', 'ap_hi', 'ap_lo']\n",
    "# Initialize the scaler\n",
    "scaler = StandardScaler()\n",
    "# Fit and transform the numerical features\n",
    "data[numerical_features] = scaler.fit_transform(data[numerical_features])\n",
    "# Check the scaled data\n",
    "print(data.head())"
   ]
  },
  {
   "cell_type": "markdown",
   "metadata": {},
   "source": [
    "# Feature Selection"
   ]
  },
  {
   "cell_type": "markdown",
   "metadata": {},
   "source": [
    "## Chi-Square Method"
   ]
  },
  {
   "cell_type": "code",
   "execution_count": 4,
   "metadata": {},
   "outputs": [
    {
     "data": {
      "application/vnd.microsoft.datawrangler.viewer.v0+json": {
       "columns": [
        {
         "name": "index",
         "rawType": "int64",
         "type": "integer"
        },
        {
         "name": "Feature",
         "rawType": "object",
         "type": "string"
        },
        {
         "name": "Chi-Square Score",
         "rawType": "float64",
         "type": "float"
        }
       ],
       "conversionMethod": "pd.DataFrame",
       "ref": "ea655823-0104-4033-8bb3-62960cae9276",
       "rows": [
        [
         "0",
         "id",
         "16518.57482142816"
        ],
        [
         "7",
         "cholesterol",
         "1129.276708031572"
        ],
        [
         "5",
         "ap_hi",
         "729.4121093633908"
        ],
        [
         "6",
         "ap_lo",
         "495.7839472754089"
        ],
        [
         "8",
         "gluc",
         "145.40479384708266"
        ],
        [
         "4",
         "weight",
         "65.18888951228817"
        ],
        [
         "11",
         "active",
         "19.449966708075152"
        ],
        [
         "1",
         "age",
         "18.450899972022885"
        ],
        [
         "9",
         "smoke",
         "16.458640875709143"
        ],
        [
         "3",
         "height",
         "9.68999010938009"
        ],
        [
         "10",
         "alco",
         "4.705326866954858"
        ],
        [
         "2",
         "gender",
         "0.5025235796080499"
        ]
       ],
       "shape": {
        "columns": 2,
        "rows": 12
       }
      },
      "text/html": [
       "<div>\n",
       "<style scoped>\n",
       "    .dataframe tbody tr th:only-of-type {\n",
       "        vertical-align: middle;\n",
       "    }\n",
       "\n",
       "    .dataframe tbody tr th {\n",
       "        vertical-align: top;\n",
       "    }\n",
       "\n",
       "    .dataframe thead th {\n",
       "        text-align: right;\n",
       "    }\n",
       "</style>\n",
       "<table border=\"1\" class=\"dataframe\">\n",
       "  <thead>\n",
       "    <tr style=\"text-align: right;\">\n",
       "      <th></th>\n",
       "      <th>Feature</th>\n",
       "      <th>Chi-Square Score</th>\n",
       "    </tr>\n",
       "  </thead>\n",
       "  <tbody>\n",
       "    <tr>\n",
       "      <th>0</th>\n",
       "      <td>id</td>\n",
       "      <td>16518.574821</td>\n",
       "    </tr>\n",
       "    <tr>\n",
       "      <th>7</th>\n",
       "      <td>cholesterol</td>\n",
       "      <td>1129.276708</td>\n",
       "    </tr>\n",
       "    <tr>\n",
       "      <th>5</th>\n",
       "      <td>ap_hi</td>\n",
       "      <td>729.412109</td>\n",
       "    </tr>\n",
       "    <tr>\n",
       "      <th>6</th>\n",
       "      <td>ap_lo</td>\n",
       "      <td>495.783947</td>\n",
       "    </tr>\n",
       "    <tr>\n",
       "      <th>8</th>\n",
       "      <td>gluc</td>\n",
       "      <td>145.404794</td>\n",
       "    </tr>\n",
       "    <tr>\n",
       "      <th>4</th>\n",
       "      <td>weight</td>\n",
       "      <td>65.188890</td>\n",
       "    </tr>\n",
       "    <tr>\n",
       "      <th>11</th>\n",
       "      <td>active</td>\n",
       "      <td>19.449967</td>\n",
       "    </tr>\n",
       "    <tr>\n",
       "      <th>1</th>\n",
       "      <td>age</td>\n",
       "      <td>18.450900</td>\n",
       "    </tr>\n",
       "    <tr>\n",
       "      <th>9</th>\n",
       "      <td>smoke</td>\n",
       "      <td>16.458641</td>\n",
       "    </tr>\n",
       "    <tr>\n",
       "      <th>3</th>\n",
       "      <td>height</td>\n",
       "      <td>9.689990</td>\n",
       "    </tr>\n",
       "    <tr>\n",
       "      <th>10</th>\n",
       "      <td>alco</td>\n",
       "      <td>4.705327</td>\n",
       "    </tr>\n",
       "    <tr>\n",
       "      <th>2</th>\n",
       "      <td>gender</td>\n",
       "      <td>0.502524</td>\n",
       "    </tr>\n",
       "  </tbody>\n",
       "</table>\n",
       "</div>"
      ],
      "text/plain": [
       "        Feature  Chi-Square Score\n",
       "0            id      16518.574821\n",
       "7   cholesterol       1129.276708\n",
       "5         ap_hi        729.412109\n",
       "6         ap_lo        495.783947\n",
       "8          gluc        145.404794\n",
       "4        weight         65.188890\n",
       "11       active         19.449967\n",
       "1           age         18.450900\n",
       "9         smoke         16.458641\n",
       "3        height          9.689990\n",
       "10         alco          4.705327\n",
       "2        gender          0.502524"
      ]
     },
     "execution_count": 4,
     "metadata": {},
     "output_type": "execute_result"
    }
   ],
   "source": [
    "from sklearn.feature_selection import SelectKBest, chi2\n",
    "X = data.drop(columns=['cardio'])  # Features\n",
    "y = data['cardio']  # Target variable\n",
    "\n",
    "# Since chi-square works with non-negative values, ensure no negative values are in X\n",
    "X_abs = X.abs()\n",
    "\n",
    "# Apply chi-square feature selection\n",
    "chi2_selector = SelectKBest(chi2, k='all') \n",
    "X_new = chi2_selector.fit_transform(X_abs, y)\n",
    "\n",
    "# Get the scores of each feature\n",
    "feature_scores = chi2_selector.scores_\n",
    "\n",
    "# Create a DataFrame to view the feature scores\n",
    "feature_scores_df = pd.DataFrame({\n",
    "    'Feature': X.columns,\n",
    "    'Chi-Square Score': feature_scores\n",
    "})\n",
    "\n",
    "# Sort features based on chi-square score\n",
    "feature_scores_df = feature_scores_df.sort_values(by='Chi-Square Score', ascending=False)\n",
    "\n",
    "feature_scores_df"
   ]
  },
  {
   "cell_type": "code",
   "execution_count": 5,
   "metadata": {},
   "outputs": [],
   "source": [
    "# Drop the 'id' column\n",
    "X = data.drop(columns=['id', 'cardio'])\n",
    "y = data['cardio']"
   ]
  },
  {
   "cell_type": "markdown",
   "metadata": {},
   "source": [
    "## Transferring data for model Part"
   ]
  },
  {
   "cell_type": "code",
   "execution_count": 6,
   "metadata": {},
   "outputs": [
    {
     "name": "stdout",
     "output_type": "stream",
     "text": [
      "Preprocessed data saved successfully!\n"
     ]
    }
   ],
   "source": [
    "processed_data = data\n",
    "# Save preprocessed data\n",
    "processed_data.to_csv(\"../data/processed/processed_data.csv\", index=False)\n",
    "\n",
    "print(\"Preprocessed data saved successfully!\")"
   ]
  }
 ],
 "metadata": {
  "kernelspec": {
   "display_name": "Python 3",
   "language": "python",
   "name": "python3"
  },
  "language_info": {
   "codemirror_mode": {
    "name": "ipython",
    "version": 3
   },
   "file_extension": ".py",
   "mimetype": "text/x-python",
   "name": "python",
   "nbconvert_exporter": "python",
   "pygments_lexer": "ipython3",
   "version": "3.12.4"
  }
 },
 "nbformat": 4,
 "nbformat_minor": 2
}
